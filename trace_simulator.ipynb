{
 "cells": [
  {
   "cell_type": "markdown",
   "metadata": {},
   "source": [
    "# Trace simulator experiments\n",
    "\n",
    "This is a trace simulator.\n",
    "\n",
    "1. We first start creating a NUMBER_OF_TOWERS towers in a random distribution.\n",
    "2. Then we generate random traces for NUMBER_OF_USERS users through a number of CYCLES.\n",
    "3. Finally we aggregate the data, the number of users for each tower in each cycle.\n",
    "\n",
    "To generate random traces we take into account the distances between the towers and the cycle number (a.k.a. hours)"
   ]
  },
  {
   "cell_type": "code",
   "execution_count": 1,
   "metadata": {},
   "outputs": [],
   "source": [
    "import random\n",
    "import math\n",
    "\n",
    "import matplotlib.pyplot as plt\n",
    "import pandas as pd\n",
    "import numpy as np"
   ]
  },
  {
   "cell_type": "markdown",
   "metadata": {},
   "source": [
    "### Constants"
   ]
  },
  {
   "cell_type": "code",
   "execution_count": 26,
   "metadata": {},
   "outputs": [],
   "source": [
    "NUMBER_OF_TOWERS = 100\n",
    "NUMBER_OF_USERS = 100\n",
    "CYCLES = 24\n",
    "\n",
    "#\n",
    "# The probability of jumping to another tower when its\n",
    "# distance is within one of these distance percentiles.\n",
    "#\n",
    "PERCENTILES_PROB = [\n",
    "    (0.05, 0.75),\n",
    "    (0.15, 0.125),\n",
    "    (0.30, 0.09375),\n",
    "    (1.00, 0.03125),\n",
    "]\n",
    "\n",
    "EXPANDER = 1\n",
    "SIGMA = 0.05"
   ]
  },
  {
   "cell_type": "markdown",
   "metadata": {},
   "source": [
    "### Generator utils"
   ]
  },
  {
   "cell_type": "code",
   "execution_count": 3,
   "metadata": {},
   "outputs": [],
   "source": [
    "def distance(p1, p2):\n",
    "    \"\"\"Distance between two points\"\"\"\n",
    "    return math.sqrt(((p1[0] - p2[0]) ** 2) + ((p1[1] - p2[1]) ** 2))\n",
    "\n",
    "def get_random_trace(distances):\n",
    "    \"\"\"Generates an array of length CYCLES\n",
    "    \n",
    "    Each element of the returned array represents a tower of a user's trace\n",
    "    \"\"\"\n",
    "    towers_ids = np.arange(NUMBER_OF_TOWERS)\n",
    "    \n",
    "    trace = []\n",
    "    for cycle in range(CYCLES):\n",
    "        if cycle == 0:\n",
    "            # For the first towers the chance of selecting a tower is equally distributed\n",
    "            trace.append(np.random.choice(towers_ids))\n",
    "        else:\n",
    "            #\n",
    "            # For the next tower, the probability changes depending on the distance between\n",
    "            # the last tower and the others.\n",
    "            #\n",
    "            # Also, we take into account the cycle number, so there's always a probability of\n",
    "            # switching towers or not.\n",
    "            #\n",
    "            last_tower = trace[cycle - 1]\n",
    "            \n",
    "            # Night vs. Not-night probabilities\n",
    "            switch_tower_prob = [0.2, 0.8] if cycle in range(0, 7) else [0.5, 0.5]\n",
    "\n",
    "            if np.random.choice([True, False], p=switch_tower_prob):\n",
    "                #\n",
    "                # Get distances of last tower to the rest and\n",
    "                # prevents the same last_tower from being selected\n",
    "                #\n",
    "                last_tower_dist = distances[last_tower].drop(last_tower)\n",
    "\n",
    "                # Define the distances quantiles for the percentiles defined in the settings\n",
    "                dist_quantiles = np.array([last_tower_dist.quantile(p) for p, _ in PERCENTILES_PROB])\n",
    "\n",
    "                # For each distance, determine in which quantile that distance fits\n",
    "                towers_prob = np.array([\n",
    "                    PERCENTILES_PROB[np.argmin(d >= dist_quantiles + 0.00001)][1]\n",
    "                    for d in last_tower_dist\n",
    "                ])\n",
    "\n",
    "                #\n",
    "                # Equally divide the percentile probability\n",
    "                # by the number of towers that fit in that group.\n",
    "                #\n",
    "                # For example, if 5 towers fit in the first percentile (top 5%), and the probability\n",
    "                # for that group is of 0.25, then each tower has a 0.05 (= 0.25 / 5) chance of\n",
    "                # being the following tower.\n",
    "                #\n",
    "                prob_items, prob_items_counts = np.unique(towers_prob, return_counts=True)\n",
    "                for prob_item, prob_item_count in zip(prob_items, prob_items_counts):\n",
    "                    towers_prob[towers_prob == prob_item] /= prob_item_count\n",
    "\n",
    "                # Select a random tower taking into account the probabilities\n",
    "                possible_towers_ids = distances.index.drop(last_tower)\n",
    "                trace.append(np.random.choice(possible_towers_ids, p=towers_prob))\n",
    "            else:\n",
    "                trace.append(last_tower)\n",
    "    \n",
    "    return trace\n",
    "\n",
    "def xamtfos(x, sig):\n",
    "    aux = (1 / (np.sqrt(2 * np.pi * sig ** 2)))\n",
    "    return -aux * (np.e ** -(x ** 2 / (2 * (sig ** 2)))) + aux + 1\n",
    "\n",
    "def softmax(x):\n",
    "    \"\"\"Compute softmax values for each sets of scores in x.\"\"\"\n",
    "    e_x = np.exp(x - np.max(x))\n",
    "    return e_x / e_x.sum(axis=0)\n",
    "\n",
    "def generate_probabilities(dists):\n",
    "#     normalizer = dists.max().max() / 2 * EXPANDER\n",
    "    \"\"\"Generate a matrix of probilities to go from \"\"\"\n",
    "    for i in range(NUMBER_OF_TOWERS):\n",
    "        for j in range(NUMBER_OF_TOWERS):\n",
    "            dists[i][j] = -1 * dists[i][j] * (xamtfos(dists[i][j], SIGMA)) * EXPANDER\n",
    "    normalizer = dists.max().max() / 2\n",
    "    dists -= normalizer\n",
    "    return np.array([softmax(dists[i]) for i in range(NUMBER_OF_TOWERS)])\n",
    "\n",
    "def generate_weighted_user_trace(probs):\n",
    "    towers_ids = np.arange(NUMBER_OF_TOWERS)\n",
    "    \n",
    "    trace = []\n",
    "    for cycle in range(CYCLES):\n",
    "        if cycle == 0:\n",
    "            # For the first towers the chance of selecting a tower is equally distributed\n",
    "            trace.append(np.random.choice(towers_ids))\n",
    "        else:\n",
    "            last_tower = trace[cycle - 1]\n",
    "            trace.append(np.random.choice(towers_ids, p=probs[last_tower]))\n",
    "    \n",
    "    return trace\n",
    "\n",
    "def generate_weighted_users_traces(probs):\n",
    "    return np.array([generate_weighted_user_trace(probs) for _ in range(NUMBER_OF_USERS)])\n",
    "\n",
    "def generate_user_traces(distances):\n",
    "    return np.array([get_random_trace(distances) for _ in range(NUMBER_OF_USERS)])\n",
    "\n",
    "def generate_aggregate_data(traces):\n",
    "    \"\"\"Returns how many users were in each step of the cycle based on traces\"\"\"\n",
    "    output = np.zeros((NUMBER_OF_TOWERS, CYCLES))\n",
    "    for tower in range(NUMBER_OF_TOWERS):\n",
    "        for user in range(NUMBER_OF_USERS):\n",
    "            for time in range(CYCLES):\n",
    "                output[tower][time] += traces[user][time] == tower\n",
    "    return output"
   ]
  },
  {
   "cell_type": "markdown",
   "metadata": {},
   "source": [
    "### Generate towers with random positions"
   ]
  },
  {
   "cell_type": "code",
   "execution_count": 4,
   "metadata": {},
   "outputs": [],
   "source": [
    "towers = np.random.rand(NUMBER_OF_TOWERS, 2)"
   ]
  },
  {
   "cell_type": "code",
   "execution_count": 5,
   "metadata": {},
   "outputs": [
    {
     "data": {
      "text/plain": [
       "(100, 2)"
      ]
     },
     "execution_count": 5,
     "metadata": {},
     "output_type": "execute_result"
    }
   ],
   "source": [
    "towers.shape"
   ]
  },
  {
   "cell_type": "markdown",
   "metadata": {},
   "source": [
    "### Plot towers positions"
   ]
  },
  {
   "cell_type": "code",
   "execution_count": 6,
   "metadata": {},
   "outputs": [
    {
     "data": {
      "image/png": "[encoded data removed]",
      "text/plain": [
       "<Figure size 576x576 with 1 Axes>"
      ]
     },
     "metadata": {},
     "output_type": "display_data"
    }
   ],
   "source": [
    "df_towers = pd.DataFrame(towers, columns=['x', 'y'])\n",
    "ax = df_towers.plot.scatter(x='x', y='y', ylim=(0,1), xlim=(0, 1), figsize=(8, 8), marker='x')\n",
    "\n",
    "for i in range(len(towers)):\n",
    "    ax.annotate(f'    T{i}', (df_towers.iloc[i].x, df_towers.iloc[i].y))\n",
    "\n",
    "plt.gca().set_aspect('equal', adjustable='box')"
   ]
  },
  {
   "cell_type": "markdown",
   "metadata": {},
   "source": [
    "### Calculate the distances between towers for each tower"
   ]
  },
  {
   "cell_type": "code",
   "execution_count": 7,
   "metadata": {},
   "outputs": [],
   "source": [
    "distances = pd.DataFrame([\n",
    "    [distance(towers[i], towers[j]) for j in range(NUMBER_OF_TOWERS)] for i in range(NUMBER_OF_TOWERS)\n",
    "])"
   ]
  },
  {
   "cell_type": "markdown",
   "metadata": {},
   "source": [
    "### Show example of tower distance probabilities"
   ]
  },
  {
   "cell_type": "code",
   "execution_count": null,
   "metadata": {},
   "outputs": [],
   "source": [
    "tower_id = 4\n",
    "tower_dists = distances[tower_id]\n",
    "dist_quantiles = np.array([tower_dists.quantile(p) for p, _ in PERCENTILES_PROB])\n",
    "print('Distance quantiles:', dist_quantiles)\n",
    "\n",
    "df_towers = pd.DataFrame(towers, columns=['x', 'y'])\n",
    "ax = df_towers.plot.scatter(x='x', y='y', ylim=(0,1), xlim=(0, 1), figsize=(12, 12), marker='x')\n",
    "\n",
    "for i in range(len(towers)):\n",
    "    ax.annotate(f'    T{i}', (df_towers.iloc[i].x, df_towers.iloc[i].y))\n",
    "\n",
    "for r in dist_quantiles:\n",
    "    ax.add_artist(plt.Circle(towers[tower_id], r, color='r', alpha=1.0 / len(dist_quantiles)))\n",
    "    \n",
    "plt.gca().set_aspect('equal', adjustable='box')"
   ]
  },
  {
   "cell_type": "markdown",
   "metadata": {},
   "source": [
    "## Generate traces based on location and velocity\n",
    "we will modify the distance matrix to express the jump from one tower to another as a probability using the softmax function"
   ]
  },
  {
   "cell_type": "code",
   "execution_count": 27,
   "metadata": {},
   "outputs": [],
   "source": [
    "probabilities = generate_probabilities(np.copy(distances.as_matrix()))"
   ]
  },
  {
   "cell_type": "code",
   "execution_count": 28,
   "metadata": {
    "scrolled": true
   },
   "outputs": [
    {
     "data": {
      "text/plain": [
       "True"
      ]
     },
     "execution_count": 28,
     "metadata": {},
     "output_type": "execute_result"
    }
   ],
   "source": [
    "probabilities[0].max() == probabilities[0,0]"
   ]
  },
  {
   "cell_type": "code",
   "execution_count": 21,
   "metadata": {},
   "outputs": [
    {
     "data": {
      "text/plain": [
       "array([0.07915834, 0.00283724, 0.00494228, 0.00308003, 0.0110791 ,\n",
       "       0.01603614, 0.0014395 , 0.00402944, 0.00149802, 0.00148605,\n",
       "       0.05755561, 0.04827363, 0.01458353, 0.0093449 , 0.00084951,\n",
       "       0.00766862, 0.00127555, 0.04130771, 0.00553696, 0.00189919,\n",
       "       0.03352685, 0.0161259 , 0.00174308, 0.00078616, 0.00141947,\n",
       "       0.02362511, 0.0588839 , 0.01197338, 0.0006781 , 0.00510254,\n",
       "       0.00174003, 0.00089711, 0.0112501 , 0.00215845, 0.00142407,\n",
       "       0.00497637, 0.00182687, 0.00113253, 0.00097185, 0.0011992 ,\n",
       "       0.03465281, 0.00462894, 0.00515804, 0.00245894, 0.02790509,\n",
       "       0.00538509, 0.01288054, 0.00090897, 0.00190545, 0.00156895,\n",
       "       0.00949273, 0.00415097, 0.0073546 , 0.0031776 , 0.00169025,\n",
       "       0.00068955, 0.00431209, 0.004509  , 0.00114106, 0.00097645,\n",
       "       0.01545181, 0.00214603, 0.00176211, 0.00220056, 0.00135099,\n",
       "       0.00448253, 0.00034721, 0.00304207, 0.04767598, 0.00444245,\n",
       "       0.00507711, 0.0037637 , 0.00241141, 0.01950485, 0.0011009 ,\n",
       "       0.00489307, 0.01032664, 0.01934147, 0.00575217, 0.00609799,\n",
       "       0.00498869, 0.00515491, 0.01070364, 0.01289328, 0.00290987,\n",
       "       0.00390772, 0.00102625, 0.00096347, 0.00127885, 0.00117409,\n",
       "       0.01279292, 0.00633395, 0.00300101, 0.0048989 , 0.06695668,\n",
       "       0.00164589, 0.02078437, 0.00038316, 0.00103091, 0.04573085])"
      ]
     },
     "execution_count": 21,
     "metadata": {},
     "output_type": "execute_result"
    }
   ],
   "source": [
    "probabilities[0]"
   ]
  },
  {
   "cell_type": "code",
   "execution_count": 29,
   "metadata": {},
   "outputs": [
    {
     "data": {
      "text/html": [
       "<div>\n",
       "<style scoped>\n",
       "    .dataframe tbody tr th:only-of-type {\n",
       "        vertical-align: middle;\n",
       "    }\n",
       "\n",
       "    .dataframe tbody tr th {\n",
       "        vertical-align: top;\n",
       "    }\n",
       "\n",
       "    .dataframe thead th {\n",
       "        text-align: right;\n",
       "    }\n",
       "</style>\n",
       "<table border=\"1\" class=\"dataframe\">\n",
       "  <thead>\n",
       "    <tr style=\"text-align: right;\">\n",
       "      <th></th>\n",
       "      <th>0</th>\n",
       "      <th>1</th>\n",
       "      <th>2</th>\n",
       "      <th>3</th>\n",
       "      <th>4</th>\n",
       "      <th>5</th>\n",
       "      <th>6</th>\n",
       "      <th>7</th>\n",
       "      <th>8</th>\n",
       "      <th>9</th>\n",
       "      <th>...</th>\n",
       "      <th>90</th>\n",
       "      <th>91</th>\n",
       "      <th>92</th>\n",
       "      <th>93</th>\n",
       "      <th>94</th>\n",
       "      <th>95</th>\n",
       "      <th>96</th>\n",
       "      <th>97</th>\n",
       "      <th>98</th>\n",
       "      <th>99</th>\n",
       "    </tr>\n",
       "  </thead>\n",
       "  <tbody>\n",
       "    <tr>\n",
       "      <th>count</th>\n",
       "      <td>100.000000</td>\n",
       "      <td>100.000000</td>\n",
       "      <td>100.000000</td>\n",
       "      <td>100.000000</td>\n",
       "      <td>100.000000</td>\n",
       "      <td>100.000000</td>\n",
       "      <td>100.000000</td>\n",
       "      <td>100.000000</td>\n",
       "      <td>100.000000</td>\n",
       "      <td>100.000000</td>\n",
       "      <td>...</td>\n",
       "      <td>100.000000</td>\n",
       "      <td>100.000000</td>\n",
       "      <td>100.000000</td>\n",
       "      <td>100.000000</td>\n",
       "      <td>100.000000</td>\n",
       "      <td>100.000000</td>\n",
       "      <td>100.000000</td>\n",
       "      <td>100.000000</td>\n",
       "      <td>100.000000</td>\n",
       "      <td>100.000000</td>\n",
       "    </tr>\n",
       "    <tr>\n",
       "      <th>mean</th>\n",
       "      <td>0.008592</td>\n",
       "      <td>0.011737</td>\n",
       "      <td>0.010765</td>\n",
       "      <td>0.010907</td>\n",
       "      <td>0.007747</td>\n",
       "      <td>0.007743</td>\n",
       "      <td>0.010028</td>\n",
       "      <td>0.011307</td>\n",
       "      <td>0.010622</td>\n",
       "      <td>0.010667</td>\n",
       "      <td>...</td>\n",
       "      <td>0.009374</td>\n",
       "      <td>0.008586</td>\n",
       "      <td>0.010538</td>\n",
       "      <td>0.010541</td>\n",
       "      <td>0.007694</td>\n",
       "      <td>0.008512</td>\n",
       "      <td>0.010472</td>\n",
       "      <td>0.006789</td>\n",
       "      <td>0.009589</td>\n",
       "      <td>0.010008</td>\n",
       "    </tr>\n",
       "    <tr>\n",
       "      <th>std</th>\n",
       "      <td>0.026094</td>\n",
       "      <td>0.017537</td>\n",
       "      <td>0.025991</td>\n",
       "      <td>0.015725</td>\n",
       "      <td>0.026617</td>\n",
       "      <td>0.032084</td>\n",
       "      <td>0.022886</td>\n",
       "      <td>0.016564</td>\n",
       "      <td>0.016784</td>\n",
       "      <td>0.021177</td>\n",
       "      <td>...</td>\n",
       "      <td>0.021479</td>\n",
       "      <td>0.026294</td>\n",
       "      <td>0.016631</td>\n",
       "      <td>0.017017</td>\n",
       "      <td>0.026009</td>\n",
       "      <td>0.026662</td>\n",
       "      <td>0.018890</td>\n",
       "      <td>0.030141</td>\n",
       "      <td>0.022797</td>\n",
       "      <td>0.025629</td>\n",
       "    </tr>\n",
       "    <tr>\n",
       "      <th>min</th>\n",
       "      <td>0.000016</td>\n",
       "      <td>0.000180</td>\n",
       "      <td>0.000028</td>\n",
       "      <td>0.000539</td>\n",
       "      <td>0.000037</td>\n",
       "      <td>0.000017</td>\n",
       "      <td>0.000024</td>\n",
       "      <td>0.000713</td>\n",
       "      <td>0.000139</td>\n",
       "      <td>0.000038</td>\n",
       "      <td>...</td>\n",
       "      <td>0.000114</td>\n",
       "      <td>0.000011</td>\n",
       "      <td>0.000301</td>\n",
       "      <td>0.000127</td>\n",
       "      <td>0.000013</td>\n",
       "      <td>0.000011</td>\n",
       "      <td>0.000171</td>\n",
       "      <td>0.000013</td>\n",
       "      <td>0.000030</td>\n",
       "      <td>0.000039</td>\n",
       "    </tr>\n",
       "    <tr>\n",
       "      <th>25%</th>\n",
       "      <td>0.000119</td>\n",
       "      <td>0.001240</td>\n",
       "      <td>0.000282</td>\n",
       "      <td>0.001680</td>\n",
       "      <td>0.000173</td>\n",
       "      <td>0.000104</td>\n",
       "      <td>0.000285</td>\n",
       "      <td>0.002356</td>\n",
       "      <td>0.000704</td>\n",
       "      <td>0.000373</td>\n",
       "      <td>...</td>\n",
       "      <td>0.000557</td>\n",
       "      <td>0.000098</td>\n",
       "      <td>0.001517</td>\n",
       "      <td>0.001319</td>\n",
       "      <td>0.000089</td>\n",
       "      <td>0.000175</td>\n",
       "      <td>0.000901</td>\n",
       "      <td>0.000074</td>\n",
       "      <td>0.000216</td>\n",
       "      <td>0.000270</td>\n",
       "    </tr>\n",
       "    <tr>\n",
       "      <th>50%</th>\n",
       "      <td>0.000667</td>\n",
       "      <td>0.005050</td>\n",
       "      <td>0.001319</td>\n",
       "      <td>0.005431</td>\n",
       "      <td>0.000777</td>\n",
       "      <td>0.000488</td>\n",
       "      <td>0.001989</td>\n",
       "      <td>0.005367</td>\n",
       "      <td>0.003087</td>\n",
       "      <td>0.002762</td>\n",
       "      <td>...</td>\n",
       "      <td>0.002140</td>\n",
       "      <td>0.000500</td>\n",
       "      <td>0.005006</td>\n",
       "      <td>0.003925</td>\n",
       "      <td>0.000452</td>\n",
       "      <td>0.000682</td>\n",
       "      <td>0.003226</td>\n",
       "      <td>0.000345</td>\n",
       "      <td>0.001701</td>\n",
       "      <td>0.000903</td>\n",
       "    </tr>\n",
       "    <tr>\n",
       "      <th>75%</th>\n",
       "      <td>0.003750</td>\n",
       "      <td>0.015358</td>\n",
       "      <td>0.005144</td>\n",
       "      <td>0.013218</td>\n",
       "      <td>0.003406</td>\n",
       "      <td>0.002307</td>\n",
       "      <td>0.006869</td>\n",
       "      <td>0.012775</td>\n",
       "      <td>0.013542</td>\n",
       "      <td>0.007833</td>\n",
       "      <td>...</td>\n",
       "      <td>0.007296</td>\n",
       "      <td>0.004039</td>\n",
       "      <td>0.013016</td>\n",
       "      <td>0.015267</td>\n",
       "      <td>0.003419</td>\n",
       "      <td>0.004319</td>\n",
       "      <td>0.012599</td>\n",
       "      <td>0.002362</td>\n",
       "      <td>0.006923</td>\n",
       "      <td>0.005266</td>\n",
       "    </tr>\n",
       "    <tr>\n",
       "      <th>max</th>\n",
       "      <td>0.198567</td>\n",
       "      <td>0.091398</td>\n",
       "      <td>0.130677</td>\n",
       "      <td>0.101456</td>\n",
       "      <td>0.235366</td>\n",
       "      <td>0.274556</td>\n",
       "      <td>0.126333</td>\n",
       "      <td>0.095355</td>\n",
       "      <td>0.110302</td>\n",
       "      <td>0.113685</td>\n",
       "      <td>...</td>\n",
       "      <td>0.156006</td>\n",
       "      <td>0.201341</td>\n",
       "      <td>0.111060</td>\n",
       "      <td>0.110641</td>\n",
       "      <td>0.220430</td>\n",
       "      <td>0.194472</td>\n",
       "      <td>0.126682</td>\n",
       "      <td>0.275161</td>\n",
       "      <td>0.129341</td>\n",
       "      <td>0.162633</td>\n",
       "    </tr>\n",
       "  </tbody>\n",
       "</table>\n",
       "<p>8 rows × 100 columns</p>\n",
       "</div>"
      ],
      "text/plain": [
       "               0           1           2           3           4           5   \\\n",
       "count  100.000000  100.000000  100.000000  100.000000  100.000000  100.000000   \n",
       "mean     0.008592    0.011737    0.010765    0.010907    0.007747    0.007743   \n",
       "std      0.026094    0.017537    0.025991    0.015725    0.026617    0.032084   \n",
       "min      0.000016    0.000180    0.000028    0.000539    0.000037    0.000017   \n",
       "25%      0.000119    0.001240    0.000282    0.001680    0.000173    0.000104   \n",
       "50%      0.000667    0.005050    0.001319    0.005431    0.000777    0.000488   \n",
       "75%      0.003750    0.015358    0.005144    0.013218    0.003406    0.002307   \n",
       "max      0.198567    0.091398    0.130677    0.101456    0.235366    0.274556   \n",
       "\n",
       "               6           7           8           9      ...              90  \\\n",
       "count  100.000000  100.000000  100.000000  100.000000     ...      100.000000   \n",
       "mean     0.010028    0.011307    0.010622    0.010667     ...        0.009374   \n",
       "std      0.022886    0.016564    0.016784    0.021177     ...        0.021479   \n",
       "min      0.000024    0.000713    0.000139    0.000038     ...        0.000114   \n",
       "25%      0.000285    0.002356    0.000704    0.000373     ...        0.000557   \n",
       "50%      0.001989    0.005367    0.003087    0.002762     ...        0.002140   \n",
       "75%      0.006869    0.012775    0.013542    0.007833     ...        0.007296   \n",
       "max      0.126333    0.095355    0.110302    0.113685     ...        0.156006   \n",
       "\n",
       "               91          92          93          94          95          96  \\\n",
       "count  100.000000  100.000000  100.000000  100.000000  100.000000  100.000000   \n",
       "mean     0.008586    0.010538    0.010541    0.007694    0.008512    0.010472   \n",
       "std      0.026294    0.016631    0.017017    0.026009    0.026662    0.018890   \n",
       "min      0.000011    0.000301    0.000127    0.000013    0.000011    0.000171   \n",
       "25%      0.000098    0.001517    0.001319    0.000089    0.000175    0.000901   \n",
       "50%      0.000500    0.005006    0.003925    0.000452    0.000682    0.003226   \n",
       "75%      0.004039    0.013016    0.015267    0.003419    0.004319    0.012599   \n",
       "max      0.201341    0.111060    0.110641    0.220430    0.194472    0.126682   \n",
       "\n",
       "               97          98          99  \n",
       "count  100.000000  100.000000  100.000000  \n",
       "mean     0.006789    0.009589    0.010008  \n",
       "std      0.030141    0.022797    0.025629  \n",
       "min      0.000013    0.000030    0.000039  \n",
       "25%      0.000074    0.000216    0.000270  \n",
       "50%      0.000345    0.001701    0.000903  \n",
       "75%      0.002362    0.006923    0.005266  \n",
       "max      0.275161    0.129341    0.162633  \n",
       "\n",
       "[8 rows x 100 columns]"
      ]
     },
     "execution_count": 29,
     "metadata": {},
     "output_type": "execute_result"
    }
   ],
   "source": [
    "pd.DataFrame(probabilities).describe()"
   ]
  },
  {
   "cell_type": "code",
   "execution_count": 23,
   "metadata": {},
   "outputs": [
    {
     "data": {
      "text/plain": [
       "array([0.00380918, 0.01003869, 0.06100997, 0.00539107, 0.02353263,\n",
       "       0.01203132, 0.01182189, 0.00662026, 0.00437309, 0.01006963,\n",
       "       0.00406751, 0.00651735, 0.00525408, 0.00881362, 0.00187633,\n",
       "       0.00968956, 0.01584875, 0.00647975, 0.00327341, 0.00321279,\n",
       "       0.00278782, 0.00175893, 0.00037095, 0.00278031, 0.00333453,\n",
       "       0.0079561 , 0.00647987, 0.00285374, 0.00240374, 0.00802198,\n",
       "       0.00209028, 0.00120059, 0.00278898, 0.00767298, 0.00263493,\n",
       "       0.01130047, 0.00190497, 0.00145199, 0.00410788, 0.00555118,\n",
       "       0.00728241, 0.02818391, 0.0524679 , 0.00201374, 0.00406798,\n",
       "       0.00143323, 0.01193928, 0.00238037, 0.00034257, 0.014447  ,\n",
       "       0.00167004, 0.0095203 , 0.05166667, 0.01203179, 0.01357893,\n",
       "       0.00195804, 0.05631347, 0.00183574, 0.00100433, 0.00570352,\n",
       "       0.00372905, 0.01139406, 0.00079919, 0.00112684, 0.00169108,\n",
       "       0.00067145, 0.00107471, 0.00864537, 0.00391454, 0.04563828,\n",
       "       0.00150081, 0.00092487, 0.01591548, 0.00200155, 0.00092148,\n",
       "       0.06016724, 0.01496547, 0.00226872, 0.00944372, 0.05386932,\n",
       "       0.0014191 , 0.01266953, 0.02935112, 0.0014694 , 0.00284404,\n",
       "       0.00078807, 0.00675688, 0.00392635, 0.01558979, 0.01379911,\n",
       "       0.02593146, 0.00087185, 0.00385036, 0.02270264, 0.00270373,\n",
       "       0.0201279 , 0.00584108, 0.00090425, 0.00674794, 0.00801785])"
      ]
     },
     "execution_count": 23,
     "metadata": {},
     "output_type": "execute_result"
    }
   ],
   "source": [
    "probabilities[2]"
   ]
  },
  {
   "cell_type": "markdown",
   "metadata": {},
   "source": [
    "## Generate random user traces\n",
    "\n",
    "We take into account the distances between towers in order to select the following towers"
   ]
  },
  {
   "cell_type": "code",
   "execution_count": 30,
   "metadata": {},
   "outputs": [
    {
     "name": "stdout",
     "output_type": "stream",
     "text": [
      "CPU times: user 74.9 ms, sys: 3.89 ms, total: 78.8 ms\n",
      "Wall time: 77.7 ms\n"
     ]
    }
   ],
   "source": [
    "# %time random_traces = generate_user_traces(distances)\n",
    "%time random_traces = generate_weighted_users_traces(probabilities)"
   ]
  },
  {
   "cell_type": "code",
   "execution_count": 31,
   "metadata": {},
   "outputs": [
    {
     "name": "stdout",
     "output_type": "stream",
     "text": [
      "CPU times: user 791 ms, sys: 8.96 ms, total: 799 ms\n",
      "Wall time: 807 ms\n",
      "Traces shape: (100, 24)\t aggregated_data shape: (100, 24)\n"
     ]
    }
   ],
   "source": [
    "%time aggregated_data = generate_aggregate_data(random_traces)\n",
    "\n",
    "print(f'Traces shape: {random_traces.shape}\\t aggregated_data shape: {aggregated_data.shape}')"
   ]
  },
  {
   "cell_type": "code",
   "execution_count": 15,
   "metadata": {},
   "outputs": [
    {
     "data": {
      "text/plain": [
       "array([49, 49, 54, 49, 49, 49, 54, 72, 61, 61, 61, 61, 61, 61, 61,  9,  6,\n",
       "        6,  6,  6, 61, 61, 61, 35])"
      ]
     },
     "execution_count": 15,
     "metadata": {},
     "output_type": "execute_result"
    }
   ],
   "source": [
    "random_traces[0]"
   ]
  },
  {
   "cell_type": "code",
   "execution_count": null,
   "metadata": {},
   "outputs": [],
   "source": [
    "aggregated_data"
   ]
  },
  {
   "cell_type": "code",
   "execution_count": null,
   "metadata": {},
   "outputs": [],
   "source": [
    "# Check that the sum of users at every cycle is the same\n",
    "all(aggregated_data.sum(axis=0) == NUMBER_OF_USERS)"
   ]
  },
  {
   "cell_type": "markdown",
   "metadata": {},
   "source": [
    "## Draw some random user traces"
   ]
  },
  {
   "cell_type": "code",
   "execution_count": 32,
   "metadata": {},
   "outputs": [
    {
     "name": "stdout",
     "output_type": "stream",
     "text": [
      "Cycle #0: Staying in tower T17\n",
      "Cycle #1: Switching from T17 to T60\n",
      "Cycle #2: Switching from T60 to T27\n",
      "Cycle #3: Switching from T27 to T44\n",
      "Cycle #4: Switching from T44 to T51\n",
      "Cycle #5: Switching from T51 to T7\n",
      "Cycle #6: Switching from T7 to T34\n",
      "Cycle #7: Switching from T34 to T97\n",
      "Cycle #8: Switching from T97 to T66\n",
      "Cycle #9: Switching from T66 to T55\n",
      "Cycle #10: Switching from T55 to T19\n",
      "Cycle #11: Switching from T19 to T84\n",
      "Cycle #12: Switching from T84 to T7\n",
      "Cycle #13: Staying in tower T7\n",
      "Cycle #14: Switching from T7 to T14\n",
      "Cycle #15: Switching from T14 to T23\n",
      "Cycle #16: Switching from T23 to T24\n",
      "Cycle #17: Switching from T24 to T66\n",
      "Cycle #18: Switching from T66 to T74\n",
      "Cycle #19: Switching from T74 to T34\n",
      "Cycle #20: Switching from T34 to T19\n",
      "Cycle #21: Switching from T19 to T15\n",
      "Cycle #22: Switching from T15 to T51\n"
     ]
    },
    {
     "data": {
      "image/png": "[encoded data removed]",
      "text/plain": [
       "<Figure size 864x864 with 1 Axes>"
      ]
     },
     "metadata": {},
     "output_type": "display_data"
    }
   ],
   "source": [
    "from itertools import cycle\n",
    "\n",
    "df_towers = pd.DataFrame(towers, columns=['x', 'y'])\n",
    "ax = df_towers.plot.scatter(x='x', y='y', ylim=(0,1), xlim=(0, 1), figsize=(12, 12), marker='x')\n",
    "\n",
    "for i in range(len(towers)):\n",
    "    ax.annotate(f'    T{i}', (df_towers.iloc[i].x, df_towers.iloc[i].y))\n",
    "\n",
    "cycol = cycle('bgrcmk')\n",
    "\n",
    "trace = random_traces[1]\n",
    "for i in range(CYCLES - 1):\n",
    "    if trace[i] == trace[i + 1]:\n",
    "        print(f'Cycle #{i}: Staying in tower T{trace[i]}')\n",
    "        continue\n",
    "    x1, y1 = towers[trace[i]]\n",
    "    x2, y2 = towers[trace[i + 1]]\n",
    "\n",
    "    print(f'Cycle #{i}: Switching from T{trace[i]} to T{trace[i + 1]}')\n",
    "    color = next(cycol)\n",
    "    ax.arrow(x1, y1, x2 - x1, y2 - y1, head_width=0.01, head_length=0.01, fc=color, ec=color)\n",
    "\n",
    "plt.gca().set_aspect('equal', adjustable='box')"
   ]
  },
  {
   "cell_type": "code",
   "execution_count": null,
   "metadata": {},
   "outputs": [],
   "source": []
  }
 ],
 "metadata": {
  "kernelspec": {
   "display_name": "Python 3",
   "language": "python",
   "name": "python3"
  },
  "language_info": {
   "codemirror_mode": {
    "name": "ipython",
    "version": 3
   },
   "file_extension": ".py",
   "mimetype": "text/x-python",
   "name": "python",
   "nbconvert_exporter": "python",
   "pygments_lexer": "ipython3",
   "version": "3.6.4"
  }
 },
 "nbformat": 4,
 "nbformat_minor": 2
}
