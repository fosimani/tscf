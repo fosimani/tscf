{
 "cells": [
  {
   "cell_type": "code",
   "execution_count": 1,
   "metadata": {},
   "outputs": [],
   "source": [
    "import numpy as np\n",
    "import pandas as pd\n",
    "\n",
    "%matplotlib inline"
   ]
  },
  {
   "cell_type": "markdown",
   "metadata": {},
   "source": [
    "# Milan cellphone interactions dataset\n",
    "\n",
    "1. Download dataset and unzip in projects root folder: https://www.kaggle.com/marcodena/mobile-phone-activity\n",
    "2. Run the notebook"
   ]
  },
  {
   "cell_type": "code",
   "execution_count": 2,
   "metadata": {},
   "outputs": [],
   "source": [
    "df1 = pd.read_csv('./mobile-phone-activity/mi-to-provinces-2013-11-01.csv')"
   ]
  },
  {
   "cell_type": "code",
   "execution_count": 3,
   "metadata": {},
   "outputs": [
    {
     "data": {
      "text/plain": [
       "Index(['datetime', 'CellID', 'provinceName', 'cell2Province', 'Province2cell'], dtype='object')"
      ]
     },
     "execution_count": 3,
     "metadata": {},
     "output_type": "execute_result"
    }
   ],
   "source": [
    "df1.columns"
   ]
  },
  {
   "cell_type": "code",
   "execution_count": 4,
   "metadata": {},
   "outputs": [
    {
     "data": {
      "text/html": [
       "<div>\n",
       "<style scoped>\n",
       "    .dataframe tbody tr th:only-of-type {\n",
       "        vertical-align: middle;\n",
       "    }\n",
       "\n",
       "    .dataframe tbody tr th {\n",
       "        vertical-align: top;\n",
       "    }\n",
       "\n",
       "    .dataframe thead th {\n",
       "        text-align: right;\n",
       "    }\n",
       "</style>\n",
       "<table border=\"1\" class=\"dataframe\">\n",
       "  <thead>\n",
       "    <tr style=\"text-align: right;\">\n",
       "      <th></th>\n",
       "      <th>datetime</th>\n",
       "      <th>CellID</th>\n",
       "      <th>provinceName</th>\n",
       "      <th>cell2Province</th>\n",
       "      <th>Province2cell</th>\n",
       "    </tr>\n",
       "  </thead>\n",
       "  <tbody>\n",
       "    <tr>\n",
       "      <th>0</th>\n",
       "      <td>2013-11-01 00:00:00</td>\n",
       "      <td>1</td>\n",
       "      <td>MILANO</td>\n",
       "      <td>0.1894</td>\n",
       "      <td>0.0541</td>\n",
       "    </tr>\n",
       "    <tr>\n",
       "      <th>1</th>\n",
       "      <td>2013-11-01 00:00:00</td>\n",
       "      <td>1</td>\n",
       "      <td>PAVIA</td>\n",
       "      <td>0.0273</td>\n",
       "      <td>NaN</td>\n",
       "    </tr>\n",
       "    <tr>\n",
       "      <th>2</th>\n",
       "      <td>2013-11-01 00:00:00</td>\n",
       "      <td>1</td>\n",
       "      <td>TRENTO</td>\n",
       "      <td>0.0261</td>\n",
       "      <td>NaN</td>\n",
       "    </tr>\n",
       "    <tr>\n",
       "      <th>3</th>\n",
       "      <td>2013-11-01 00:00:00</td>\n",
       "      <td>2</td>\n",
       "      <td>MILANO</td>\n",
       "      <td>0.1922</td>\n",
       "      <td>0.0556</td>\n",
       "    </tr>\n",
       "    <tr>\n",
       "      <th>4</th>\n",
       "      <td>2013-11-01 00:00:00</td>\n",
       "      <td>2</td>\n",
       "      <td>PAVIA</td>\n",
       "      <td>0.0273</td>\n",
       "      <td>NaN</td>\n",
       "    </tr>\n",
       "  </tbody>\n",
       "</table>\n",
       "</div>"
      ],
      "text/plain": [
       "              datetime  CellID provinceName  cell2Province  Province2cell\n",
       "0  2013-11-01 00:00:00       1       MILANO         0.1894         0.0541\n",
       "1  2013-11-01 00:00:00       1        PAVIA         0.0273            NaN\n",
       "2  2013-11-01 00:00:00       1       TRENTO         0.0261            NaN\n",
       "3  2013-11-01 00:00:00       2       MILANO         0.1922         0.0556\n",
       "4  2013-11-01 00:00:00       2        PAVIA         0.0273            NaN"
      ]
     },
     "execution_count": 4,
     "metadata": {},
     "output_type": "execute_result"
    }
   ],
   "source": [
    "df1.head()"
   ]
  },
  {
   "cell_type": "code",
   "execution_count": 5,
   "metadata": {},
   "outputs": [
    {
     "data": {
      "text/html": [
       "<div>\n",
       "<style scoped>\n",
       "    .dataframe tbody tr th:only-of-type {\n",
       "        vertical-align: middle;\n",
       "    }\n",
       "\n",
       "    .dataframe tbody tr th {\n",
       "        vertical-align: top;\n",
       "    }\n",
       "\n",
       "    .dataframe thead th {\n",
       "        text-align: right;\n",
       "    }\n",
       "</style>\n",
       "<table border=\"1\" class=\"dataframe\">\n",
       "  <thead>\n",
       "    <tr style=\"text-align: right;\">\n",
       "      <th></th>\n",
       "      <th>datetime</th>\n",
       "      <th>CellID</th>\n",
       "      <th>provinceName</th>\n",
       "      <th>cell2Province</th>\n",
       "      <th>Province2cell</th>\n",
       "    </tr>\n",
       "  </thead>\n",
       "  <tbody>\n",
       "    <tr>\n",
       "      <th>2307301</th>\n",
       "      <td>2013-11-01 23:00:00</td>\n",
       "      <td>9999</td>\n",
       "      <td>MONZA E DELLA BRIANZA</td>\n",
       "      <td>0.2874</td>\n",
       "      <td>0.4237</td>\n",
       "    </tr>\n",
       "    <tr>\n",
       "      <th>2307302</th>\n",
       "      <td>2013-11-01 23:00:00</td>\n",
       "      <td>9999</td>\n",
       "      <td>PISTOIA</td>\n",
       "      <td>NaN</td>\n",
       "      <td>0.1720</td>\n",
       "    </tr>\n",
       "    <tr>\n",
       "      <th>2307303</th>\n",
       "      <td>2013-11-01 23:00:00</td>\n",
       "      <td>10000</td>\n",
       "      <td>MILANO</td>\n",
       "      <td>0.1720</td>\n",
       "      <td>0.2130</td>\n",
       "    </tr>\n",
       "    <tr>\n",
       "      <th>2307304</th>\n",
       "      <td>2013-11-01 23:00:00</td>\n",
       "      <td>10000</td>\n",
       "      <td>MONZA E DELLA BRIANZA</td>\n",
       "      <td>0.3664</td>\n",
       "      <td>0.3170</td>\n",
       "    </tr>\n",
       "    <tr>\n",
       "      <th>2307305</th>\n",
       "      <td>2013-11-01 23:00:00</td>\n",
       "      <td>10000</td>\n",
       "      <td>PISTOIA</td>\n",
       "      <td>NaN</td>\n",
       "      <td>0.1720</td>\n",
       "    </tr>\n",
       "  </tbody>\n",
       "</table>\n",
       "</div>"
      ],
      "text/plain": [
       "                    datetime  CellID           provinceName  cell2Province  \\\n",
       "2307301  2013-11-01 23:00:00    9999  MONZA E DELLA BRIANZA         0.2874   \n",
       "2307302  2013-11-01 23:00:00    9999                PISTOIA            NaN   \n",
       "2307303  2013-11-01 23:00:00   10000                 MILANO         0.1720   \n",
       "2307304  2013-11-01 23:00:00   10000  MONZA E DELLA BRIANZA         0.3664   \n",
       "2307305  2013-11-01 23:00:00   10000                PISTOIA            NaN   \n",
       "\n",
       "         Province2cell  \n",
       "2307301         0.4237  \n",
       "2307302         0.1720  \n",
       "2307303         0.2130  \n",
       "2307304         0.3170  \n",
       "2307305         0.1720  "
      ]
     },
     "execution_count": 5,
     "metadata": {},
     "output_type": "execute_result"
    }
   ],
   "source": [
    "df1.tail()"
   ]
  },
  {
   "cell_type": "code",
   "execution_count": 6,
   "metadata": {},
   "outputs": [
    {
     "name": "stdout",
     "output_type": "stream",
     "text": [
      "Total length: 2307306\n",
      "Total unique datetimes: 24\n",
      "Total unique cell towers: 10000\n"
     ]
    }
   ],
   "source": [
    "print('Total length:', len(df1))\n",
    "print('Total unique datetimes:', len(df1.datetime.unique()))\n",
    "print('Total unique cell towers:', len(df1.CellID.unique()))"
   ]
  },
  {
   "cell_type": "code",
   "execution_count": 7,
   "metadata": {},
   "outputs": [
    {
     "data": {
      "text/plain": [
       "<matplotlib.axes._subplots.AxesSubplot at 0x106e8ca20>"
      ]
     },
     "execution_count": 7,
     "metadata": {},
     "output_type": "execute_result"
    },
    {
     "data": {
      "image/png": "[encoded data removed]",
      "text/plain": [
       "<Figure size 432x288 with 1 Axes>"
      ]
     },
     "metadata": {},
     "output_type": "display_data"
    }
   ],
   "source": [
    "df1.groupby(df1.datetime).CellID.count().plot()"
   ]
  },
  {
   "cell_type": "code",
   "execution_count": 8,
   "metadata": {},
   "outputs": [
    {
     "data": {
      "text/plain": [
       "datetime             CellID\n",
       "2013-11-01 00:00:00  1         3\n",
       "                     2         3\n",
       "                     3         3\n",
       "                     4         3\n",
       "                     5         3\n",
       "                     6         3\n",
       "                     7         3\n",
       "                     8         3\n",
       "                     9         3\n",
       "                     10        3\n",
       "                     11        2\n",
       "                     12        4\n",
       "                     13        4\n",
       "                     14        2\n",
       "                     15        2\n",
       "                     16        3\n",
       "                     17        2\n",
       "                     18        2\n",
       "                     19        2\n",
       "                     20        2\n",
       "                     21        2\n",
       "                     22        2\n",
       "                     23        2\n",
       "                     24        2\n",
       "                     25        1\n",
       "                     26        1\n",
       "                     27        1\n",
       "                     28        1\n",
       "                     29        1\n",
       "                     30        1\n",
       "                              ..\n",
       "2013-11-01 23:00:00  9971      5\n",
       "                     9972      2\n",
       "                     9973      2\n",
       "                     9974      4\n",
       "                     9975      5\n",
       "                     9976      5\n",
       "                     9977      2\n",
       "                     9978      3\n",
       "                     9979      3\n",
       "                     9980      3\n",
       "                     9981      4\n",
       "                     9982      4\n",
       "                     9983      3\n",
       "                     9984      5\n",
       "                     9985      4\n",
       "                     9986      4\n",
       "                     9987      5\n",
       "                     9988      6\n",
       "                     9989      6\n",
       "                     9990      6\n",
       "                     9991      7\n",
       "                     9992      9\n",
       "                     9993      8\n",
       "                     9994      6\n",
       "                     9995      7\n",
       "                     9996      7\n",
       "                     9997      3\n",
       "                     9998      3\n",
       "                     9999      3\n",
       "                     10000     3\n",
       "Name: CellID, Length: 230555, dtype: int64"
      ]
     },
     "execution_count": 8,
     "metadata": {},
     "output_type": "execute_result"
    }
   ],
   "source": [
    "df1.groupby([df1.datetime, df1.CellID]).CellID.count()"
   ]
  },
  {
   "cell_type": "code",
   "execution_count": null,
   "metadata": {},
   "outputs": [],
   "source": []
  }
 ],
 "metadata": {
  "kernelspec": {
   "display_name": "Python 3",
   "language": "python",
   "name": "python3"
  },
  "language_info": {
   "codemirror_mode": {
    "name": "ipython",
    "version": 3
   },
   "file_extension": ".py",
   "mimetype": "text/x-python",
   "name": "python",
   "nbconvert_exporter": "python",
   "pygments_lexer": "ipython3",
   "version": "3.6.0"
  }
 },
 "nbformat": 4,
 "nbformat_minor": 2
}
