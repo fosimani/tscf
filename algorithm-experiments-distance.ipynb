{
 "cells": [
  {
   "cell_type": "code",
   "execution_count": 72,
   "metadata": {},
   "outputs": [],
   "source": [
    "import matplotlib\n",
    "import matplotlib.pyplot as plt\n",
    "import numpy as np\n",
    "import pandas as pd\n",
    "\n",
    "%matplotlib inline"
   ]
  },
  {
   "cell_type": "code",
   "execution_count": 8,
   "metadata": {},
   "outputs": [],
   "source": [
    "towers = pd.DataFrame([\n",
    "    [1.4, 1.5],\n",
    "    [2.3, 3.4],\n",
    "    [3.5, 1.8],\n",
    "    [3.9, 4.8],\n",
    "    [2.1, 5.2],\n",
    "    [4.3, 3.0],\n",
    "    [1.2, 4.1],\n",
    "    [1.6, 2.5],\n",
    "], columns=['x', 'y'])"
   ]
  },
  {
   "cell_type": "code",
   "execution_count": 74,
   "metadata": {},
   "outputs": [
    {
     "data": {
      "image/png": "[encoded data removed]",
      "text/plain": [
       "<Figure size 432x432 with 1 Axes>"
      ]
     },
     "metadata": {},
     "output_type": "display_data"
    }
   ],
   "source": [
    "ax = towers.plot.scatter(x='x', y='y', ylim=(0,6), xlim=(0, 6), figsize=(6, 6))\n",
    "\n",
    "for i in range(len(towers)):\n",
    "    ax.annotate(f'  T{i}', (towers.iloc[i].x, towers.iloc[i].y))\n",
    "\n",
    "plt.gca().set_aspect('equal', adjustable='box')"
   ]
  },
  {
   "cell_type": "code",
   "execution_count": 43,
   "metadata": {},
   "outputs": [
    {
     "data": {
      "text/plain": [
       "array([[2.1, 0.3],\n",
       "       [1.2, 1.6],\n",
       "       [0. , 0. ],\n",
       "       [0.4, 3. ],\n",
       "       [1.4, 3.4],\n",
       "       [0.8, 1.2],\n",
       "       [2.3, 2.3],\n",
       "       [1.9, 0.7]])"
      ]
     },
     "execution_count": 43,
     "metadata": {},
     "output_type": "execute_result"
    }
   ],
   "source": [
    "t = towers.as_matrix()\n",
    "\n",
    "# Copy the coordinates to NxNx2 dimentions\n",
    "t_aux = np.tile(t, t.shape[0]).reshape((t.shape[0], t.shape[0], t.shape[1]))\n",
    "\n",
    "# The distance matrix is the substraction of this matrix and the transpose of the first to axises\n",
    "dist_matrix = np.abs(t_aux.transpose((1, 0, 2)) - t_aux)\n",
    "\n",
    "dist_matrix[2]"
   ]
  },
  {
   "cell_type": "code",
   "execution_count": 63,
   "metadata": {},
   "outputs": [],
   "source": [
    "def tower_dist(tower1, tower2):\n",
    "    return np.sqrt(np.sum(dist_matrix[tower1, tower2] ** 2))"
   ]
  },
  {
   "cell_type": "code",
   "execution_count": 70,
   "metadata": {},
   "outputs": [
    {
     "data": {
      "text/plain": [
       "3.2649655434629015"
      ]
     },
     "execution_count": 70,
     "metadata": {},
     "output_type": "execute_result"
    }
   ],
   "source": [
    "tower_dist(0, 5)"
   ]
  },
  {
   "cell_type": "code",
   "execution_count": 76,
   "metadata": {},
   "outputs": [
    {
     "data": {
      "text/plain": [
       "array([1.41421356])"
      ]
     },
     "execution_count": 76,
     "metadata": {},
     "output_type": "execute_result"
    }
   ],
   "source": [
    "from scipy.spatial.distance import pdist\n",
    "\n",
    "pdist([[0, 0], [1,1]])"
   ]
  },
  {
   "cell_type": "code",
   "execution_count": null,
   "metadata": {},
   "outputs": [],
   "source": []
  }
 ],
 "metadata": {
  "kernelspec": {
   "display_name": "Python 3",
   "language": "python",
   "name": "python3"
  },
  "language_info": {
   "codemirror_mode": {
    "name": "ipython",
    "version": 3
   },
   "file_extension": ".py",
   "mimetype": "text/x-python",
   "name": "python",
   "nbconvert_exporter": "python",
   "pygments_lexer": "ipython3",
   "version": "3.6.4"
  }
 },
 "nbformat": 4,
 "nbformat_minor": 2
}
